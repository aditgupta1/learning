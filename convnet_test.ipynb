{
 "cells": [
  {
   "cell_type": "code",
   "execution_count": 1,
   "metadata": {},
   "outputs": [
    {
     "name": "stderr",
     "output_type": "stream",
     "text": [
      "  0%|          | 0/12501 [00:00<?, ?it/s]"
     ]
    },
    {
     "name": "stdout",
     "output_type": "stream",
     "text": [
      "PetImages/Cat\n"
     ]
    },
    {
     "name": "stderr",
     "output_type": "stream",
     "text": [
      "100%|██████████| 12501/12501 [00:53<00:00, 235.35it/s]\n",
      "  0%|          | 0/12501 [00:00<?, ?it/s]"
     ]
    },
    {
     "name": "stdout",
     "output_type": "stream",
     "text": [
      "PetImages/Dog\n"
     ]
    },
    {
     "name": "stderr",
     "output_type": "stream",
     "text": [
      "100%|██████████| 12501/12501 [01:27<00:00, 142.87it/s]\n"
     ]
    },
    {
     "name": "stdout",
     "output_type": "stream",
     "text": [
      "Cats: 12476\n",
      "Dogs: 12470\n"
     ]
    }
   ],
   "source": [
    "#Cnns accept 2d/3d inputs (array of pixels)\n",
    "#convulutions goal is to locate features of an image \n",
    "import os\n",
    "import cv2\n",
    "import numpy as np\n",
    "from tqdm import tqdm\n",
    "\n",
    "REBUILD_DATA = True\n",
    "\n",
    "class DogsVSCats():\n",
    "    IMG_SIZE = 50 #want images to be 50x50 for CNN\n",
    "    CATS = \"PetImages/Cat\"\n",
    "    DOGS = \"PetImages/Dog\"\n",
    "    LABELS = {CATS:0, DOGS:1}\n",
    "    training_data = []\n",
    "    catcount = 0\n",
    "    dogcount = 0\n",
    "    \n",
    "    def make_training_data(self):\n",
    "        for label in self.LABELS: #iterate over directory\n",
    "            print(label)\n",
    "            for f in tqdm(os.listdir(label)): #iterate over images in directory\n",
    "                try:\n",
    "                    path = os.path.join(label, f)\n",
    "                    img = cv2.imread(path, cv2.IMREAD_GRAYSCALE)\n",
    "                    img = cv2.resize(img, (self.IMG_SIZE, self.IMG_SIZE))\n",
    "                    self.training_data.append([np.array(img), np.eye(2)[self.LABELS[label]]]) #one-hot vector (1 if Dog or Cat on index) done by np.eye\n",
    "\n",
    "                    if label == self.CATS:\n",
    "                        self.catcount += 1\n",
    "                    elif label == self.DOGS:\n",
    "                        self.dogcount += 1\n",
    "                except Exception as e:\n",
    "                    pass\n",
    "        np.random.shuffle(self.training_data)\n",
    "        np.save(\"training_data.npy\", self.training_data)\n",
    "        #print(\"Cats:\", self.catcount)\n",
    "       # print(\"Dogs:\", self.dogcount)\n",
    "\n",
    "if REBUILD_DATA:\n",
    "    dogsvcats = DogsVSCats()\n",
    "    dogsvcats.make_training_data()\n",
    "    \n",
    "    "
   ]
  },
  {
   "cell_type": "code",
   "execution_count": 2,
   "metadata": {},
   "outputs": [],
   "source": [
    "training_data = np.load(\"training_data.npy\", allow_pickle=True)"
   ]
  },
  {
   "cell_type": "code",
   "execution_count": 3,
   "metadata": {},
   "outputs": [
    {
     "name": "stdout",
     "output_type": "stream",
     "text": [
      "24946\n"
     ]
    }
   ],
   "source": [
    "print(len(training_data))"
   ]
  },
  {
   "cell_type": "code",
   "execution_count": 7,
   "metadata": {},
   "outputs": [
    {
     "data": {
      "text/plain": [
       "<matplotlib.image.AxesImage at 0x117d616d8>"
      ]
     },
     "execution_count": 7,
     "metadata": {},
     "output_type": "execute_result"
    },
    {
     "data": {
      "image/png": "[encoded data removed]",
      "text/plain": [
       "<Figure size 432x288 with 1 Axes>"
      ]
     },
     "metadata": {},
     "output_type": "display_data"
    }
   ],
   "source": [
    "import matplotlib.pyplot as plt\n",
    "\n",
    "plt.imshow(training_data[1][0], cmap = \"gray\")\n"
   ]
  },
  {
   "cell_type": "code",
   "execution_count": 5,
   "metadata": {},
   "outputs": [
    {
     "data": {
      "text/plain": [
       "array([0., 1.])"
      ]
     },
     "execution_count": 5,
     "metadata": {},
     "output_type": "execute_result"
    }
   ],
   "source": [
    "training_data[1][1]"
   ]
  },
  {
   "cell_type": "code",
   "execution_count": 25,
   "metadata": {},
   "outputs": [],
   "source": [
    "import torch\n",
    "import torch.nn as nn\n",
    "import torch.nn.functional as F\n",
    "\n",
    "class Net(nn.Module):\n",
    "    def __init__(self):\n",
    "        super().__init__()\n",
    "        self.conv1 = nn.Conv2d(1,32,5)#32 convolutional features, 5x5 kernals\n",
    "        self.conv2 = nn.Conv2d(32,64,5)\n",
    "        self.conv3 = nn.Conv2d(64,128,5)\n",
    "        \n",
    "        x = torch.randn(50,50).view(-1,1,50,50)\n",
    "        self._to_linear = None\n",
    "        self.convs(x)\n",
    "        \n",
    "        self.fc1 = nn.Linear(self._to_linear,512)\n",
    "        self.fc2 = nn.Linear(512,2)\n",
    "        \n",
    "    def convs(self, x):\n",
    "        x = F.max_pool2d(F.relu(self.conv1(x)), (2,2))\n",
    "        x = F.max_pool2d(F.relu(self.conv2(x)), (2,2))\n",
    "        x = F.max_pool2d(F.relu(self.conv3(x)), (2,2))\n",
    "        #print(x[0].shape)\n",
    "        if self._to_linear is None:\n",
    "            self._to_linear = x[0].shape[0]*x[0].shape[1]*x[0].shape[2]\n",
    "        return x \n",
    "    \n",
    "    def forward(self,x):\n",
    "        x = self.convs(x)\n",
    "        x = x.view(-1, self._to_linear)\n",
    "        x = F.relu(self.fc1(x))\n",
    "        x = self.fc2(x)\n",
    "        return F.softmax(x, dim=1)\n",
    "        \n",
    "        \n",
    "net = Net()        "
   ]
  },
  {
   "cell_type": "code",
   "execution_count": 26,
   "metadata": {},
   "outputs": [
    {
     "name": "stdout",
     "output_type": "stream",
     "text": [
      "2494\n"
     ]
    }
   ],
   "source": [
    "import torch.optim as optim\n",
    "\n",
    "optimizer = optim.Adam(net.parameters(), lr = 0.001)\n",
    "loss_function = nn.MSELoss()\n",
    "\n",
    "X = torch.Tensor([i[0] for i in training_data]).view(-1,50,50)\n",
    "X = X/255.0\n",
    "y = torch.Tensor([i[1] for i in training_data])\n",
    "\n",
    "VAL_PCT = 0.1\n",
    "val_size = int(len(X)*VAL_PCT)\n",
    "print(val_size)"
   ]
  },
  {
   "cell_type": "code",
   "execution_count": 27,
   "metadata": {},
   "outputs": [],
   "source": [
    "train_X = X[:-val_size]\n",
    "train_y = y[:-val_size]\n",
    "\n",
    "test_X = X[-val_size:]\n",
    "test_y = y[-val_size:]"
   ]
  },
  {
   "cell_type": "code",
   "execution_count": 28,
   "metadata": {},
   "outputs": [
    {
     "name": "stderr",
     "output_type": "stream",
     "text": [
      "\n",
      "  0%|          | 0/225 [00:00<?, ?it/s]\u001b[A\n",
      "  0%|          | 1/225 [00:00<01:55,  1.94it/s]\u001b[A\n",
      "  1%|          | 2/225 [00:00<01:51,  1.99it/s]\u001b[A\n",
      "  1%|▏         | 3/225 [00:01<01:45,  2.10it/s]\u001b[A\n",
      "  2%|▏         | 4/225 [00:01<01:44,  2.11it/s]\u001b[A\n",
      "  2%|▏         | 5/225 [00:02<01:44,  2.11it/s]\u001b[A\n",
      "  3%|▎         | 6/225 [00:02<01:40,  2.17it/s]\u001b[A\n",
      "  3%|▎         | 7/225 [00:03<01:40,  2.18it/s]\u001b[A\n",
      "  4%|▎         | 8/225 [00:03<01:37,  2.23it/s]\u001b[A\n",
      "  4%|▍         | 9/225 [00:04<01:34,  2.28it/s]\u001b[A\n",
      "  4%|▍         | 10/225 [00:04<01:33,  2.31it/s]\u001b[A\n",
      "  5%|▍         | 11/225 [00:04<01:32,  2.32it/s]\u001b[A\n",
      "  5%|▌         | 12/225 [00:05<01:31,  2.32it/s]\u001b[A\n",
      "  6%|▌         | 13/225 [00:05<01:31,  2.31it/s]\u001b[A\n",
      "  6%|▌         | 14/225 [00:06<01:30,  2.32it/s]\u001b[A\n",
      "  7%|▋         | 15/225 [00:06<01:30,  2.33it/s]\u001b[A\n",
      "  7%|▋         | 16/225 [00:07<01:29,  2.33it/s]\u001b[A\n",
      "  8%|▊         | 17/225 [00:07<01:31,  2.27it/s]\u001b[A\n",
      "  8%|▊         | 18/225 [00:07<01:30,  2.30it/s]\u001b[A\n",
      "  8%|▊         | 19/225 [00:08<01:29,  2.29it/s]\u001b[A\n",
      "  9%|▉         | 20/225 [00:08<01:28,  2.31it/s]\u001b[A\n",
      "  9%|▉         | 21/225 [00:09<01:27,  2.32it/s]\u001b[A\n",
      " 10%|▉         | 22/225 [00:09<01:28,  2.29it/s]\u001b[A\n",
      " 10%|█         | 23/225 [00:10<01:29,  2.27it/s]\u001b[A\n",
      " 11%|█         | 24/225 [00:10<01:29,  2.25it/s]\u001b[A\n",
      " 11%|█         | 25/225 [00:11<01:28,  2.27it/s]\u001b[A\n",
      " 12%|█▏        | 26/225 [00:11<01:27,  2.28it/s]\u001b[A\n",
      " 12%|█▏        | 27/225 [00:11<01:26,  2.29it/s]\u001b[A\n",
      " 12%|█▏        | 28/225 [00:12<01:25,  2.31it/s]\u001b[A\n",
      " 13%|█▎        | 29/225 [00:12<01:25,  2.29it/s]\u001b[A\n",
      " 13%|█▎        | 30/225 [00:13<01:25,  2.28it/s]\u001b[A\n",
      " 14%|█▍        | 31/225 [00:13<01:25,  2.26it/s]\u001b[A\n",
      " 14%|█▍        | 32/225 [00:14<01:25,  2.25it/s]\u001b[A\n",
      " 15%|█▍        | 33/225 [00:14<01:25,  2.25it/s]\u001b[A\n",
      " 15%|█▌        | 34/225 [00:14<01:23,  2.28it/s]\u001b[A\n",
      " 16%|█▌        | 35/225 [00:15<01:23,  2.28it/s]\u001b[A\n",
      " 16%|█▌        | 36/225 [00:15<01:23,  2.25it/s]\u001b[A\n",
      " 16%|█▋        | 37/225 [00:16<01:24,  2.23it/s]\u001b[A\n",
      " 17%|█▋        | 38/225 [00:16<01:24,  2.22it/s]\u001b[A\n",
      " 17%|█▋        | 39/225 [00:17<01:23,  2.23it/s]\u001b[A\n",
      " 18%|█▊        | 40/225 [00:17<01:22,  2.24it/s]\u001b[A\n",
      " 18%|█▊        | 41/225 [00:18<01:22,  2.24it/s]\u001b[A\n",
      " 19%|█▊        | 42/225 [00:18<01:21,  2.24it/s]\u001b[A\n",
      " 19%|█▉        | 43/225 [00:18<01:20,  2.27it/s]\u001b[A\n",
      " 20%|█▉        | 44/225 [00:19<01:18,  2.29it/s]\u001b[A\n",
      " 20%|██        | 45/225 [00:19<01:18,  2.30it/s]\u001b[A\n",
      " 20%|██        | 46/225 [00:20<01:19,  2.26it/s]\u001b[A\n",
      " 21%|██        | 47/225 [00:20<01:18,  2.27it/s]\u001b[A\n",
      " 21%|██▏       | 48/225 [00:21<01:18,  2.26it/s]\u001b[A\n",
      " 22%|██▏       | 49/225 [00:21<01:18,  2.23it/s]\u001b[A\n",
      " 22%|██▏       | 50/225 [00:22<01:19,  2.21it/s]\u001b[A\n",
      " 23%|██▎       | 51/225 [00:22<01:22,  2.11it/s]\u001b[A\n",
      " 23%|██▎       | 52/225 [00:23<01:31,  1.88it/s]\u001b[A\n",
      " 24%|██▎       | 53/225 [00:23<01:35,  1.79it/s]\u001b[A\n",
      " 24%|██▍       | 54/225 [00:24<01:37,  1.76it/s]\u001b[A\n",
      " 24%|██▍       | 55/225 [00:25<02:08,  1.33it/s]\u001b[A\n",
      " 25%|██▍       | 56/225 [00:26<02:06,  1.34it/s]\u001b[A\n",
      " 25%|██▌       | 57/225 [00:27<02:02,  1.38it/s]\u001b[A\n",
      " 26%|██▌       | 58/225 [00:27<02:03,  1.36it/s]\u001b[A\n",
      " 26%|██▌       | 59/225 [00:28<01:58,  1.40it/s]\u001b[A\n",
      " 27%|██▋       | 60/225 [00:29<01:58,  1.39it/s]\u001b[A\n",
      " 27%|██▋       | 61/225 [00:29<01:57,  1.40it/s]\u001b[A\n",
      " 28%|██▊       | 62/225 [00:30<01:51,  1.46it/s]\u001b[A\n",
      " 28%|██▊       | 63/225 [00:31<01:48,  1.49it/s]\u001b[A\n",
      " 28%|██▊       | 64/225 [00:31<01:44,  1.55it/s]\u001b[A\n",
      " 29%|██▉       | 65/225 [00:32<01:43,  1.55it/s]\u001b[A\n",
      " 29%|██▉       | 66/225 [00:33<01:41,  1.56it/s]\u001b[A\n",
      " 30%|██▉       | 67/225 [00:33<01:43,  1.52it/s]\u001b[A\n",
      " 30%|███       | 68/225 [00:34<01:45,  1.49it/s]\u001b[A\n",
      " 31%|███       | 69/225 [00:35<01:43,  1.51it/s]\u001b[A\n",
      " 31%|███       | 70/225 [00:35<01:39,  1.55it/s]\u001b[A\n",
      " 32%|███▏      | 71/225 [00:36<01:40,  1.54it/s]\u001b[A\n",
      " 32%|███▏      | 72/225 [00:37<01:42,  1.50it/s]\u001b[A\n",
      " 32%|███▏      | 73/225 [00:38<01:53,  1.34it/s]\u001b[A\n",
      " 33%|███▎      | 74/225 [00:38<01:42,  1.48it/s]\u001b[A\n",
      " 33%|███▎      | 75/225 [00:39<01:39,  1.51it/s]\u001b[A\n",
      " 34%|███▍      | 76/225 [00:39<01:41,  1.47it/s]\u001b[A\n",
      " 34%|███▍      | 77/225 [00:40<01:45,  1.41it/s]\u001b[A\n",
      " 35%|███▍      | 78/225 [00:41<01:37,  1.51it/s]\u001b[A\n",
      " 35%|███▌      | 79/225 [00:41<01:37,  1.50it/s]\u001b[A\n",
      " 36%|███▌      | 80/225 [00:42<01:33,  1.56it/s]\u001b[A\n",
      " 36%|███▌      | 81/225 [00:43<01:30,  1.60it/s]\u001b[A\n",
      " 36%|███▋      | 82/225 [00:43<01:29,  1.60it/s]\u001b[A\n",
      " 37%|███▋      | 83/225 [00:44<01:30,  1.57it/s]\u001b[A\n",
      " 37%|███▋      | 84/225 [00:44<01:28,  1.60it/s]\u001b[A\n",
      " 38%|███▊      | 85/225 [00:45<01:31,  1.52it/s]\u001b[A\n",
      " 38%|███▊      | 86/225 [00:46<01:28,  1.57it/s]\u001b[A\n",
      " 39%|███▊      | 87/225 [00:46<01:27,  1.57it/s]\u001b[A\n",
      " 39%|███▉      | 88/225 [00:47<01:26,  1.59it/s]\u001b[A\n",
      " 40%|███▉      | 89/225 [00:48<01:22,  1.64it/s]\u001b[A\n",
      " 40%|████      | 90/225 [00:48<01:19,  1.69it/s]\u001b[A\n",
      " 40%|████      | 91/225 [00:49<01:17,  1.73it/s]\u001b[A\n",
      " 41%|████      | 92/225 [00:49<01:16,  1.74it/s]\u001b[A\n",
      " 41%|████▏     | 93/225 [00:50<01:15,  1.75it/s]\u001b[A\n",
      " 42%|████▏     | 94/225 [00:50<01:14,  1.76it/s]\u001b[A\n",
      " 42%|████▏     | 95/225 [00:51<01:13,  1.77it/s]\u001b[A\n",
      " 43%|████▎     | 96/225 [00:51<01:12,  1.79it/s]\u001b[A\n",
      " 43%|████▎     | 97/225 [00:52<01:10,  1.82it/s]\u001b[A\n",
      " 44%|████▎     | 98/225 [00:53<01:08,  1.85it/s]\u001b[A\n",
      " 44%|████▍     | 99/225 [00:53<01:09,  1.80it/s]\u001b[A\n",
      " 44%|████▍     | 100/225 [00:54<01:12,  1.72it/s]\u001b[A\n",
      " 45%|████▍     | 101/225 [00:54<01:11,  1.73it/s]\u001b[A\n",
      " 45%|████▌     | 102/225 [00:55<01:10,  1.74it/s]\u001b[A\n",
      " 46%|████▌     | 103/225 [00:56<01:12,  1.68it/s]\u001b[A\n",
      " 46%|████▌     | 104/225 [00:56<01:10,  1.71it/s]\u001b[A\n",
      " 47%|████▋     | 105/225 [00:57<01:09,  1.74it/s]\u001b[A\n",
      " 47%|████▋     | 106/225 [00:57<01:08,  1.74it/s]\u001b[A\n",
      " 48%|████▊     | 107/225 [00:58<01:07,  1.75it/s]\u001b[A\n",
      " 48%|████▊     | 108/225 [00:58<01:06,  1.76it/s]\u001b[A\n",
      " 48%|████▊     | 109/225 [00:59<01:11,  1.63it/s]\u001b[A\n",
      " 49%|████▉     | 110/225 [01:00<01:13,  1.57it/s]\u001b[A\n",
      " 49%|████▉     | 111/225 [01:00<01:14,  1.53it/s]\u001b[A\n",
      " 50%|████▉     | 112/225 [01:01<01:17,  1.46it/s]\u001b[A\n",
      " 50%|█████     | 113/225 [01:02<01:12,  1.54it/s]\u001b[A\n",
      " 51%|█████     | 114/225 [01:02<01:10,  1.57it/s]\u001b[A\n",
      " 51%|█████     | 115/225 [01:03<01:08,  1.62it/s]\u001b[A\n",
      " 52%|█████▏    | 116/225 [01:04<01:05,  1.65it/s]\u001b[A\n",
      " 52%|█████▏    | 117/225 [01:04<01:03,  1.70it/s]\u001b[A\n",
      " 52%|█████▏    | 118/225 [01:05<01:02,  1.72it/s]\u001b[A\n",
      " 53%|█████▎    | 119/225 [01:05<01:00,  1.74it/s]\u001b[A\n",
      " 53%|█████▎    | 120/225 [01:06<00:58,  1.79it/s]\u001b[A\n",
      " 54%|█████▍    | 121/225 [01:06<00:57,  1.81it/s]\u001b[A\n",
      " 54%|█████▍    | 122/225 [01:07<00:56,  1.81it/s]\u001b[A\n",
      " 55%|█████▍    | 123/225 [01:07<00:58,  1.76it/s]\u001b[A\n",
      " 55%|█████▌    | 124/225 [01:08<00:57,  1.76it/s]\u001b[A\n",
      " 56%|█████▌    | 125/225 [01:09<00:56,  1.76it/s]\u001b[A\n",
      " 56%|█████▌    | 126/225 [01:09<00:55,  1.78it/s]\u001b[A\n",
      " 56%|█████▋    | 127/225 [01:10<00:54,  1.79it/s]\u001b[A\n",
      " 57%|█████▋    | 128/225 [01:10<00:55,  1.74it/s]\u001b[A\n",
      " 57%|█████▋    | 129/225 [01:11<00:56,  1.69it/s]\u001b[A\n",
      " 58%|█████▊    | 130/225 [01:12<01:07,  1.40it/s]\u001b[A\n",
      " 58%|█████▊    | 131/225 [01:13<01:13,  1.28it/s]\u001b[A\n",
      " 59%|█████▊    | 132/225 [01:13<01:07,  1.37it/s]\u001b[A\n",
      " 59%|█████▉    | 133/225 [01:14<01:02,  1.47it/s]\u001b[A\n",
      " 60%|█████▉    | 134/225 [01:15<01:00,  1.51it/s]\u001b[A\n",
      " 60%|██████    | 135/225 [01:15<00:59,  1.52it/s]\u001b[A\n",
      " 60%|██████    | 136/225 [01:16<01:03,  1.40it/s]\u001b[A\n",
      " 61%|██████    | 137/225 [01:17<01:05,  1.35it/s]\u001b[A\n",
      " 61%|██████▏   | 138/225 [01:18<01:02,  1.38it/s]\u001b[A\n",
      " 62%|██████▏   | 139/225 [01:19<01:06,  1.29it/s]\u001b[A\n",
      " 62%|██████▏   | 140/225 [01:19<01:01,  1.38it/s]\u001b[A\n",
      " 63%|██████▎   | 141/225 [01:20<00:57,  1.46it/s]\u001b[A\n",
      " 63%|██████▎   | 142/225 [01:20<00:58,  1.41it/s]\u001b[A\n",
      " 64%|██████▎   | 143/225 [01:21<00:53,  1.54it/s]\u001b[A\n",
      " 64%|██████▍   | 144/225 [01:22<00:56,  1.44it/s]\u001b[A\n",
      " 64%|██████▍   | 145/225 [01:23<00:58,  1.37it/s]\u001b[A\n",
      " 65%|██████▍   | 146/225 [01:23<00:59,  1.32it/s]\u001b[A\n",
      " 65%|██████▌   | 147/225 [01:24<01:00,  1.29it/s]\u001b[A\n",
      " 66%|██████▌   | 148/225 [01:25<00:57,  1.33it/s]\u001b[A\n",
      " 66%|██████▌   | 149/225 [01:26<00:54,  1.40it/s]\u001b[A\n",
      " 67%|██████▋   | 150/225 [01:26<00:53,  1.39it/s]\u001b[A\n",
      " 67%|██████▋   | 151/225 [01:27<00:55,  1.34it/s]\u001b[A\n",
      " 68%|██████▊   | 152/225 [01:28<00:52,  1.40it/s]\u001b[A\n",
      " 68%|██████▊   | 153/225 [01:28<00:49,  1.44it/s]\u001b[A\n",
      " 68%|██████▊   | 154/225 [01:29<00:47,  1.50it/s]\u001b[A\n",
      " 69%|██████▉   | 155/225 [01:30<00:45,  1.55it/s]\u001b[A\n",
      " 69%|██████▉   | 156/225 [01:30<00:43,  1.57it/s]\u001b[A\n",
      " 70%|██████▉   | 157/225 [01:31<00:43,  1.58it/s]\u001b[A\n",
      " 70%|███████   | 158/225 [01:31<00:40,  1.64it/s]\u001b[A\n",
      " 71%|███████   | 159/225 [01:32<00:39,  1.68it/s]\u001b[A\n",
      " 71%|███████   | 160/225 [01:33<00:38,  1.70it/s]\u001b[A\n",
      " 72%|███████▏  | 161/225 [01:33<00:38,  1.68it/s]\u001b[A\n",
      " 72%|███████▏  | 162/225 [01:34<00:36,  1.71it/s]\u001b[A\n",
      " 72%|███████▏  | 163/225 [01:34<00:35,  1.72it/s]\u001b[A\n",
      " 73%|███████▎  | 164/225 [01:35<00:34,  1.76it/s]\u001b[A\n",
      " 73%|███████▎  | 165/225 [01:36<00:36,  1.64it/s]\u001b[A\n",
      " 74%|███████▍  | 166/225 [01:36<00:35,  1.68it/s]\u001b[A\n",
      " 74%|███████▍  | 167/225 [01:37<00:35,  1.65it/s]\u001b[A\n",
      " 75%|███████▍  | 168/225 [01:37<00:33,  1.68it/s]\u001b[A\n",
      " 75%|███████▌  | 169/225 [01:38<00:32,  1.72it/s]\u001b[A\n",
      " 76%|███████▌  | 170/225 [01:38<00:31,  1.72it/s]\u001b[A\n",
      " 76%|███████▌  | 171/225 [01:39<00:31,  1.74it/s]\u001b[A\n",
      " 76%|███████▋  | 172/225 [01:40<00:30,  1.74it/s]\u001b[A\n",
      " 77%|███████▋  | 173/225 [01:40<00:29,  1.76it/s]\u001b[A\n",
      " 77%|███████▋  | 174/225 [01:41<00:28,  1.77it/s]\u001b[A\n",
      " 78%|███████▊  | 175/225 [01:41<00:27,  1.79it/s]\u001b[A\n",
      " 78%|███████▊  | 176/225 [01:42<00:27,  1.79it/s]\u001b[A\n",
      " 79%|███████▊  | 177/225 [01:42<00:28,  1.71it/s]\u001b[A\n",
      " 79%|███████▉  | 178/225 [01:43<00:28,  1.66it/s]\u001b[A\n",
      " 80%|███████▉  | 179/225 [01:44<00:27,  1.69it/s]\u001b[A\n",
      " 80%|████████  | 180/225 [01:44<00:26,  1.69it/s]\u001b[A\n",
      " 80%|████████  | 181/225 [01:45<00:25,  1.72it/s]\u001b[A\n",
      " 81%|████████  | 182/225 [01:45<00:25,  1.68it/s]\u001b[A\n",
      " 81%|████████▏ | 183/225 [01:46<00:25,  1.67it/s]\u001b[A\n",
      " 82%|████████▏ | 184/225 [01:47<00:24,  1.69it/s]\u001b[A\n",
      " 82%|████████▏ | 185/225 [01:47<00:22,  1.76it/s]\u001b[A\n",
      " 83%|████████▎ | 186/225 [01:48<00:21,  1.80it/s]\u001b[A\n",
      " 83%|████████▎ | 187/225 [01:48<00:21,  1.77it/s]\u001b[A\n",
      " 84%|████████▎ | 188/225 [01:49<00:20,  1.77it/s]\u001b[A\n",
      " 84%|████████▍ | 189/225 [01:49<00:20,  1.79it/s]\u001b[A\n",
      " 84%|████████▍ | 190/225 [01:50<00:19,  1.83it/s]\u001b[A\n",
      " 85%|████████▍ | 191/225 [01:50<00:18,  1.83it/s]\u001b[A\n",
      " 85%|████████▌ | 192/225 [01:51<00:17,  1.85it/s]\u001b[A\n",
      " 86%|████████▌ | 193/225 [01:51<00:17,  1.85it/s]\u001b[A\n",
      " 86%|████████▌ | 194/225 [01:52<00:16,  1.82it/s]\u001b[A\n",
      " 87%|████████▋ | 195/225 [01:53<00:16,  1.83it/s]\u001b[A\n",
      " 87%|████████▋ | 196/225 [01:53<00:16,  1.81it/s]\u001b[A\n",
      " 88%|████████▊ | 197/225 [01:54<00:15,  1.80it/s]\u001b[A\n",
      " 88%|████████▊ | 198/225 [01:54<00:15,  1.78it/s]\u001b[A\n",
      " 88%|████████▊ | 199/225 [01:55<00:14,  1.79it/s]\u001b[A\n",
      " 89%|████████▉ | 200/225 [01:55<00:13,  1.82it/s]\u001b[A\n",
      " 89%|████████▉ | 201/225 [01:56<00:13,  1.80it/s]\u001b[A\n",
      " 90%|████████▉ | 202/225 [01:57<00:13,  1.72it/s]\u001b[A\n",
      " 90%|█████████ | 203/225 [01:57<00:12,  1.71it/s]\u001b[A\n",
      " 91%|█████████ | 204/225 [01:58<00:12,  1.73it/s]\u001b[A\n",
      " 91%|█████████ | 205/225 [01:58<00:11,  1.72it/s]\u001b[A\n",
      " 92%|█████████▏| 206/225 [01:59<00:11,  1.69it/s]\u001b[A\n",
      " 92%|█████████▏| 207/225 [02:00<00:10,  1.69it/s]\u001b[A\n",
      " 92%|█████████▏| 208/225 [02:00<00:09,  1.72it/s]\u001b[A\n",
      " 93%|█████████▎| 209/225 [02:01<00:09,  1.65it/s]\u001b[A\n",
      " 93%|█████████▎| 210/225 [02:01<00:08,  1.68it/s]\u001b[A\n",
      " 94%|█████████▍| 211/225 [02:02<00:08,  1.68it/s]\u001b[A\n",
      " 94%|█████████▍| 212/225 [02:02<00:07,  1.70it/s]\u001b[A\n",
      " 95%|█████████▍| 213/225 [02:03<00:06,  1.73it/s]\u001b[A\n",
      " 95%|█████████▌| 214/225 [02:04<00:06,  1.77it/s]\u001b[A\n",
      " 96%|█████████▌| 215/225 [02:04<00:05,  1.82it/s]\u001b[A\n",
      " 96%|█████████▌| 216/225 [02:05<00:04,  1.86it/s]\u001b[A\n",
      " 96%|█████████▋| 217/225 [02:05<00:04,  1.78it/s]\u001b[A\n",
      " 97%|█████████▋| 218/225 [02:06<00:03,  1.79it/s]\u001b[A\n",
      " 97%|█████████▋| 219/225 [02:06<00:03,  1.81it/s]\u001b[A\n",
      " 98%|█████████▊| 220/225 [02:07<00:02,  1.84it/s]\u001b[A\n",
      " 98%|█████████▊| 221/225 [02:07<00:02,  1.85it/s]\u001b[A\n",
      " 99%|█████████▊| 222/225 [02:08<00:01,  1.85it/s]\u001b[A\n",
      " 99%|█████████▉| 223/225 [02:08<00:01,  1.83it/s]\u001b[A\n",
      "100%|█████████▉| 224/225 [02:09<00:00,  1.84it/s]\u001b[A\n",
      "100%|██████████| 225/225 [02:09<00:00,  1.73it/s]"
     ]
    },
    {
     "name": "stdout",
     "output_type": "stream",
     "text": [
      "tensor(0.2448, grad_fn=<MseLossBackward>)\n"
     ]
    },
    {
     "name": "stderr",
     "output_type": "stream",
     "text": [
      "\n"
     ]
    }
   ],
   "source": [
    "BATCH_SIZE = 100\n",
    "EPOCHS = 1\n",
    "\n",
    "for eoch in range(EPOCHS):\n",
    "    for i in tqdm(range(0, len(train_X), BATCH_SIZE)):\n",
    "        #print(i, i+BATCH_SIZE)\n",
    "        batch_X = train_X[i:i+BATCH_SIZE].view(-1,1,50,50)\n",
    "        batch_y = train_y[i:i+BATCH_SIZE]\n",
    "        \n",
    "        net.zero_grad()\n",
    "        outputs = net(batch_X)\n",
    "        loss = loss_function(outputs, batch_y)\n",
    "        loss.backward()\n",
    "        optimizer.step()\n",
    "print(loss)"
   ]
  },
  {
   "cell_type": "code",
   "execution_count": 29,
   "metadata": {},
   "outputs": [
    {
     "name": "stderr",
     "output_type": "stream",
     "text": [
      "\n",
      "  0%|          | 0/2494 [00:00<?, ?it/s]\u001b[A\n",
      "  1%|          | 30/2494 [00:00<00:08, 296.45it/s]\u001b[A\n",
      "  3%|▎         | 63/2494 [00:00<00:07, 305.58it/s]\u001b[A\n",
      "  3%|▎         | 84/2494 [00:00<00:09, 266.51it/s]\u001b[A\n",
      "  5%|▍         | 120/2494 [00:00<00:08, 288.84it/s]\u001b[A\n",
      "  6%|▋         | 157/2494 [00:00<00:07, 308.94it/s]\u001b[A\n",
      "  8%|▊         | 193/2494 [00:00<00:07, 322.64it/s]\u001b[A\n",
      "  9%|▉         | 229/2494 [00:00<00:06, 332.93it/s]\u001b[A\n",
      " 11%|█         | 265/2494 [00:00<00:06, 339.81it/s]\u001b[A\n",
      " 12%|█▏        | 298/2494 [00:00<00:06, 324.99it/s]\u001b[A\n",
      " 13%|█▎        | 330/2494 [00:01<00:10, 216.25it/s]\u001b[A\n",
      " 14%|█▍        | 359/2494 [00:01<00:09, 233.92it/s]\u001b[A\n",
      " 15%|█▌        | 386/2494 [00:01<00:09, 232.50it/s]\u001b[A\n",
      " 17%|█▋        | 412/2494 [00:01<00:09, 229.47it/s]\u001b[A\n",
      " 18%|█▊        | 438/2494 [00:01<00:08, 236.82it/s]\u001b[A\n",
      " 19%|█▊        | 463/2494 [00:01<00:08, 239.62it/s]\u001b[A\n",
      " 20%|█▉        | 488/2494 [00:01<00:08, 240.71it/s]\u001b[A\n",
      " 21%|██        | 513/2494 [00:01<00:08, 237.44it/s]\u001b[A\n",
      " 22%|██▏       | 539/2494 [00:02<00:08, 242.83it/s]\u001b[A\n",
      " 23%|██▎       | 571/2494 [00:02<00:07, 261.64it/s]\u001b[A\n",
      " 24%|██▍       | 602/2494 [00:02<00:06, 273.58it/s]\u001b[A\n",
      " 25%|██▌       | 631/2494 [00:02<00:06, 277.69it/s]\u001b[A\n",
      " 27%|██▋       | 662/2494 [00:02<00:06, 285.97it/s]\u001b[A\n",
      " 28%|██▊       | 691/2494 [00:02<00:07, 249.77it/s]\u001b[A\n",
      " 29%|██▉       | 718/2494 [00:02<00:07, 230.98it/s]\u001b[A\n",
      " 30%|██▉       | 743/2494 [00:02<00:07, 219.45it/s]\u001b[A\n",
      " 31%|███       | 766/2494 [00:02<00:07, 219.81it/s]\u001b[A\n",
      " 32%|███▏      | 796/2494 [00:03<00:07, 238.58it/s]\u001b[A\n",
      " 33%|███▎      | 821/2494 [00:03<00:07, 233.38it/s]\u001b[A\n",
      " 34%|███▍      | 845/2494 [00:03<00:07, 227.67it/s]\u001b[A\n",
      " 35%|███▍      | 869/2494 [00:03<00:07, 230.19it/s]\u001b[A\n",
      " 36%|███▌      | 894/2494 [00:03<00:06, 233.84it/s]\u001b[A\n",
      " 37%|███▋      | 918/2494 [00:03<00:06, 233.18it/s]\u001b[A\n",
      " 38%|███▊      | 942/2494 [00:03<00:07, 207.12it/s]\u001b[A\n",
      " 39%|███▊      | 964/2494 [00:03<00:07, 200.34it/s]\u001b[A\n",
      " 40%|███▉      | 989/2494 [00:03<00:07, 212.29it/s]\u001b[A\n",
      " 41%|████      | 1023/2494 [00:04<00:06, 239.06it/s]\u001b[A\n",
      " 42%|████▏     | 1057/2494 [00:04<00:05, 262.33it/s]\u001b[A\n",
      " 44%|████▍     | 1094/2494 [00:04<00:04, 286.61it/s]\u001b[A\n",
      " 45%|████▌     | 1126/2494 [00:04<00:04, 295.26it/s]\u001b[A\n",
      " 46%|████▋     | 1157/2494 [00:04<00:05, 255.56it/s]\u001b[A\n",
      " 48%|████▊     | 1185/2494 [00:04<00:05, 249.95it/s]\u001b[A\n",
      " 49%|████▊     | 1212/2494 [00:04<00:05, 241.24it/s]\u001b[A\n",
      " 50%|████▉     | 1238/2494 [00:04<00:05, 234.97it/s]\u001b[A\n",
      " 51%|█████     | 1263/2494 [00:04<00:05, 228.69it/s]\u001b[A\n",
      " 52%|█████▏    | 1287/2494 [00:05<00:05, 221.12it/s]\u001b[A\n",
      " 53%|█████▎    | 1310/2494 [00:05<00:05, 216.52it/s]\u001b[A\n",
      " 54%|█████▎    | 1337/2494 [00:05<00:05, 229.01it/s]\u001b[A\n",
      " 55%|█████▍    | 1364/2494 [00:05<00:04, 239.71it/s]\u001b[A\n",
      " 56%|█████▌    | 1389/2494 [00:05<00:04, 240.19it/s]\u001b[A\n",
      " 57%|█████▋    | 1417/2494 [00:05<00:04, 246.61it/s]\u001b[A\n",
      " 58%|█████▊    | 1442/2494 [00:05<00:04, 246.62it/s]\u001b[A\n",
      " 59%|█████▉    | 1467/2494 [00:05<00:04, 247.19it/s]\u001b[A\n",
      " 60%|█████▉    | 1492/2494 [00:05<00:04, 246.16it/s]\u001b[A\n",
      " 61%|██████    | 1517/2494 [00:06<00:04, 234.53it/s]\u001b[A\n",
      " 62%|██████▏   | 1548/2494 [00:06<00:03, 252.92it/s]\u001b[A\n",
      " 63%|██████▎   | 1579/2494 [00:06<00:03, 267.62it/s]\u001b[A\n",
      " 64%|██████▍   | 1607/2494 [00:06<00:03, 269.81it/s]\u001b[A\n",
      " 66%|██████▌   | 1635/2494 [00:06<00:03, 265.04it/s]\u001b[A\n",
      " 67%|██████▋   | 1662/2494 [00:06<00:03, 259.09it/s]\u001b[A\n",
      " 68%|██████▊   | 1692/2494 [00:06<00:02, 269.44it/s]\u001b[A\n",
      " 69%|██████▉   | 1720/2494 [00:06<00:02, 265.23it/s]\u001b[A\n",
      " 70%|███████   | 1748/2494 [00:06<00:02, 268.19it/s]\u001b[A\n",
      " 71%|███████   | 1775/2494 [00:07<00:02, 254.96it/s]\u001b[A\n",
      " 72%|███████▏  | 1801/2494 [00:07<00:02, 237.92it/s]\u001b[A\n",
      " 73%|███████▎  | 1827/2494 [00:07<00:02, 243.62it/s]\u001b[A\n",
      " 74%|███████▍  | 1852/2494 [00:07<00:02, 244.74it/s]\u001b[A\n",
      " 75%|███████▌  | 1878/2494 [00:07<00:02, 248.07it/s]\u001b[A\n",
      " 76%|███████▋  | 1903/2494 [00:07<00:02, 239.29it/s]\u001b[A\n",
      " 77%|███████▋  | 1928/2494 [00:07<00:02, 242.10it/s]\u001b[A\n",
      " 78%|███████▊  | 1953/2494 [00:07<00:02, 241.15it/s]\u001b[A\n",
      " 79%|███████▉  | 1978/2494 [00:07<00:02, 232.76it/s]\u001b[A\n",
      " 80%|████████  | 2002/2494 [00:07<00:02, 230.25it/s]\u001b[A\n",
      " 81%|████████▏ | 2029/2494 [00:08<00:01, 237.37it/s]\u001b[A\n",
      " 82%|████████▏ | 2057/2494 [00:08<00:01, 248.32it/s]\u001b[A\n",
      " 84%|████████▍ | 2091/2494 [00:08<00:01, 270.07it/s]\u001b[A\n",
      " 85%|████████▌ | 2122/2494 [00:08<00:01, 279.27it/s]\u001b[A\n",
      " 86%|████████▌ | 2151/2494 [00:08<00:01, 268.89it/s]\u001b[A\n",
      " 87%|████████▋ | 2179/2494 [00:08<00:01, 255.72it/s]\u001b[A\n",
      " 88%|████████▊ | 2207/2494 [00:08<00:01, 261.74it/s]\u001b[A\n",
      " 90%|████████▉ | 2234/2494 [00:08<00:01, 240.40it/s]\u001b[A\n",
      " 91%|█████████ | 2259/2494 [00:08<00:00, 240.02it/s]\u001b[A\n",
      " 92%|█████████▏| 2289/2494 [00:09<00:00, 254.25it/s]\u001b[A\n",
      " 93%|█████████▎| 2315/2494 [00:09<00:00, 253.69it/s]\u001b[A\n",
      " 94%|█████████▍| 2341/2494 [00:09<00:00, 251.46it/s]\u001b[A\n",
      " 95%|█████████▍| 2368/2494 [00:09<00:00, 256.35it/s]\u001b[A\n",
      " 96%|█████████▌| 2395/2494 [00:09<00:00, 259.72it/s]\u001b[A\n",
      " 97%|█████████▋| 2422/2494 [00:09<00:00, 250.45it/s]\u001b[A\n",
      " 98%|█████████▊| 2448/2494 [00:09<00:00, 243.14it/s]\u001b[A\n",
      "100%|██████████| 2494/2494 [00:09<00:00, 252.27it/s]"
     ]
    },
    {
     "name": "stdout",
     "output_type": "stream",
     "text": [
      "Accuracy: 0.615\n"
     ]
    },
    {
     "name": "stderr",
     "output_type": "stream",
     "text": [
      "\n"
     ]
    }
   ],
   "source": [
    "correct = 0\n",
    "total = 0\n",
    "with torch.no_grad():\n",
    "    for i in tqdm(range(len(test_X))):\n",
    "        real_class = torch.argmax(test_y[i])\n",
    "        net_out = net(test_X[i].view(-1,1,50,50))[0]\n",
    "        predicted_class = torch.argmax(net_out)\n",
    "        if predicted_class == real_class:\n",
    "            correct +=1\n",
    "        total += 1\n",
    "print(\"Accuracy:\", round(correct/total,3))"
   ]
  },
  {
   "cell_type": "code",
   "execution_count": null,
   "metadata": {},
   "outputs": [],
   "source": []
  }
 ],
 "metadata": {
  "kernelspec": {
   "display_name": "Python 3",
   "language": "python",
   "name": "python3"
  },
  "language_info": {
   "codemirror_mode": {
    "name": "ipython",
    "version": 3
   },
   "file_extension": ".py",
   "mimetype": "text/x-python",
   "name": "python",
   "nbconvert_exporter": "python",
   "pygments_lexer": "ipython3",
   "version": "3.6.8"
  }
 },
 "nbformat": 4,
 "nbformat_minor": 2
}
